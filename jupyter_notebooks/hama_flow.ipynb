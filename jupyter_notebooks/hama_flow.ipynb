{
 "cells": [
  {
   "cell_type": "code",
   "execution_count": null,
   "metadata": {
    "collapsed": false
   },
   "outputs": [],
   "source": [
    "import matplotlib as mpl\n",
    "import matplotlib.pyplot as mplt\n",
    "import numpy as np\n",
    "import math\n",
    "from matplotlib import animation\n",
    "\n",
    "# Set some plotting parameters\n",
    "mpl.rcParams['lines.linewidth'] = 2;\n",
    "\n",
    "# Font Size\n",
    "fontSize_text = 16;\n",
    "fontSize_latex = 24;\n",
    "\n",
    "# This turns on inline plotting\n",
    "%matplotlib inline"
   ]
  },
  {
   "cell_type": "markdown",
   "metadata": {},
   "source": [
    "Declare some latex things\n",
    "$ \\DeclareMathOperator{\\sech}{sech} $"
   ]
  },
  {
   "cell_type": "markdown",
   "metadata": {},
   "source": [
    "The mean velocity $\\mathbf{u_o}\\left(x, y\\right) = u_o\\left(x, y\\right) \\hat{i} + v_o\\left(x, y\\right) \\hat{j}$ of an example shear flow is given by:\n",
    "\n",
    "$u_o = 1 + \\tanh y$  \n",
    "\n",
    "$v_o = 0$\n",
    "\n",
    "The perturbed velocity amplitudes are given by:  \n",
    "\n",
    "$u^\\prime = a \\hat{u}\\left(y\\right) \\sin \\alpha \\left(x - c t \\right)$  \n",
    "    $ = 2a \\sech y \\tanh y \\sin \\alpha \\left(x - ct \\right)$  \n",
    "\n",
    "$v^\\prime = a \\hat{v}\\left(y\\right) \\cos \\alpha \\left(x - ct \\right)$  \n",
    "    $ = 2a \\sech y \\cos \\alpha \\left(x - ct\\right)$\n",
    "\n",
    "Here, $a$ is the amplitude of the fluctuating velocity, and $\\alpha = 2 \\pi / \\lambda$ is the wave number of the perturbation. $c$ is the wave speed. In this example, we set $c = a = \\alpha = 1$.\n",
    "\n",
    "The mean and fluctuating vorticities, $\\zeta_o$ and $\\zeta^\\prime$, are given by:\n",
    "\n",
    "$\\zeta_o = \\partial v_o / \\partial x - \\partial u_o / \\partial y = - \\sech^2 y $  \n",
    "\n",
    "$\\zeta^\\prime = \\partial v^\\prime / \\partial x - \\partial u^\\prime / \\partial y = -4 a \\sech^3 y \\sin\\left(\\alpha \\left(x - c t \\right) \\right)$  \n",
    "\n"
   ]
  },
  {
   "cell_type": "code",
   "execution_count": null,
   "metadata": {
    "collapsed": false
   },
   "outputs": [],
   "source": [
    "# Form the Y coordinate vector\n",
    "y = np.linspace(0, 3, 100);\n",
    "\n",
    "# Calculate the mean velocity\n",
    "u_o = 1 + np.tanh(y);\n",
    "\n",
    "# Calculate the velocity amplitude functions u^ and v^\n",
    "a = 1;\n",
    "u_hat = 2 * a * (1  / np.cosh(y)) * np.tanh(y);\n",
    "v_hat = 2 * a * ( 1 / np.cosh(y));\n"
   ]
  },
  {
   "cell_type": "code",
   "execution_count": null,
   "metadata": {
    "collapsed": false
   },
   "outputs": [],
   "source": [
    "# Define the plot\n",
    "# The commas are necessary for the legend to work\n",
    "u_o_plot, = mplt.plot(u_o, y, '-k', label = '$u_o$');\n",
    "u_hat_plot, = mplt.plot(u_hat, y, '-r', label = '$\\hat{u}$');\n",
    "v_hat_plot, = mplt.plot(v_hat, y, '-b', label = '$\\hat{v}$');\n",
    "\n",
    "# Formatting\n",
    "mplt.ylabel('$y$', fontsize = fontSize_latex)\n",
    "mplt.xlabel('$u_o$', fontsize = fontSize_latex)\n",
    "mplt.title('Steady and unsteady velocity amplitudes', fontsize = 0.8 * fontSize_text)\n",
    "mplt.axis('square')\n",
    "mplt.axis([0, 4, 0, 3])\n",
    "mplt.grid('on')\n",
    "\n",
    "# Make a legend\n",
    "mplt.legend([u_o_plot, u_hat_plot, v_hat_plot], \\\n",
    "            [\"$u_o$\", \"$\\hat{u}$\", \"$\\hat{v}$\"], \\\n",
    "            fontsize=fontSize_latex, loc = 5)\n",
    "\n",
    "\n",
    "# Show the plot\n",
    "mplt.show()\n"
   ]
  },
  {
   "cell_type": "code",
   "execution_count": null,
   "metadata": {
    "collapsed": true
   },
   "outputs": [],
   "source": []
  },
  {
   "cell_type": "code",
   "execution_count": null,
   "metadata": {
    "collapsed": false
   },
   "outputs": [],
   "source": [
    "# Plotting Velocity field with time\n",
    "from matplotlib import pyplot as plt\n",
    "import numpy as np\n",
    "import matplotlib.animation as animation\n",
    "import math\n",
    "%matplotlib qt \n",
    "#%matplotlib inline \n",
    "\n",
    "a=0.02\n",
    "pi=math.pi\n",
    "\n",
    "def ufield(x,y,t):\n",
    "    return 1 + np.tanh(2*pi*y) + 2*a*(1/np.cosh(2*pi*y)) * np.tanh(2*pi*y) * np.sin(2*pi*(x-t))\n",
    "\n",
    "def vfield(x,y,t):\n",
    "    return 2*a*(1/np.cosh(2*pi*y)) * np.cos(2*pi*(x-t))\n",
    "\n",
    "x = np.linspace(0,8, num=30)\n",
    "y = np.linspace(-0.1,0.1, num=20)\n",
    "X,Y = np.meshgrid(x,y)\n",
    "t = np.linspace(0,100, num=5000)\n",
    "\n",
    "def update_quiver(j, ax, fig):\n",
    "    u = ufield(X,Y,t[j])\n",
    "    v = vfield(X,Y,t[j])\n",
    "    Q.set_UVC(u, v)\n",
    "    ax.set_title('$t$ = '+ str(t[j]))\n",
    "    return Q,\n",
    "\n",
    "def init_quiver():\n",
    "    global Q\n",
    "    u = ufield(X,Y,t[0])\n",
    "    v = vfield(X,Y,t[0])\n",
    "    Q = ax.quiver(X, Y, u, v)\n",
    "    ax.set_title('$t$ = '+ str(t[0]))\n",
    "    ax.set_xlabel('$x$')\n",
    "    ax.set_ylabel('$y$')\n",
    "    ax.set_xlim(-1,9)\n",
    "    ax.set_ylim(-0.15,0.15)\n",
    "    return  Q,\n",
    "\n",
    "fig =plt.figure()\n",
    "ax = fig.gca()\n",
    "ax.set_title('$t$ = '+ str(t[0]))\n",
    "ax.set_xlabel('$x$')\n",
    "ax.set_ylabel('$y$')\n",
    "\n",
    "ani = animation.FuncAnimation(fig, update_quiver, \n",
    "                              frames = range(0,t.size),\n",
    "                              init_func=init_quiver,\n",
    "                              interval=5,fargs=(ax, fig),blit=False)\n",
    "plt.show(ani)\n",
    "\n",
    "\n",
    "# Plotting Pathlines\n"
   ]
  },
  {
   "cell_type": "code",
   "execution_count": 173,
   "metadata": {
    "collapsed": false
   },
   "outputs": [
    {
     "data": {
      "text/plain": [
       "<matplotlib.animation.FuncAnimation at 0x1822c908>"
      ]
     },
     "execution_count": 173,
     "metadata": {},
     "output_type": "execute_result"
    }
   ],
   "source": [
    "# Plotting Pathlines\n",
    "import matplotlib.cm as cm\n",
    "from matplotlib import animation\n",
    "import matplotlib.pyplot as plt\n",
    "import numpy as np\n",
    "from scipy.integrate import odeint\n",
    "import math\n",
    "%matplotlib qt \n",
    "pi=math.pi\n",
    "a=0.02\n",
    "\n",
    "# The colormap\n",
    "cmap = cm.jet\n",
    "\n",
    "#y(0)=x and y(1)=y, dy0=u and dy1=v\n",
    "def pathline(y,t):\n",
    "    dy0=1 + np.tanh(2*pi*y[1]) + 2*a*(1/np.cosh(2*pi*y[1])) * np.tanh(2*pi*y[1]) * np.sin(2*pi*(y[0]-t))\n",
    "    dy1=2*a*(1/np.cosh(2*pi*y[1])) * np.cos(2*pi*(y[0]-t))\n",
    "    return[dy0,dy1]\n",
    "\n",
    "N=5;\n",
    "ypoints=[[0,-0.1],[0,-0.05],[0,0],[0,0.05],[0,0.1]];\n",
    "ystore=[[]]*N;\n",
    "time=np.linspace(0,10,1000);\n",
    "for i in range(0, N):\n",
    "    yinit=ypoints[i];\n",
    "    ystore[i]=odeint(pathline,yinit,time);\n",
    "    \n",
    "\n",
    "fig = plt.figure()\n",
    "ax = plt.axes(xlim=(-1, 9), ylim=(-0.15, 0.15))\n",
    "#line, = ax.plot([], [], linestyle='none', marker='o', color='r')\n",
    "\n",
    "lines = [ax.plot([], [], linestyle='none', marker='o')[0] for _ in range(N)]\n",
    "ax.set_title('Pathlines at $t$ = '+ str(time[0]))\n",
    "ax.set_xlabel('$x$')\n",
    "ax.set_ylabel('$y$')\n",
    "\n",
    "\n",
    "def init():\n",
    "    for line in lines:\n",
    "        line.set_data([], [])\n",
    "    ax.set_title('$t$ = '+ str(time[0]))\n",
    "    return lines\n",
    "\n",
    "def animate(i):\n",
    "    for j,line in enumerate(lines):\n",
    "        y=ystore[j];\n",
    "        line.set_data(y[0:i,0],y[0:i,1])\n",
    "    ax.set_title('$t$ = '+ str(time[i]))\n",
    "    return lines\n",
    "    pause(1)\n",
    "    \n",
    "\n",
    "animation.FuncAnimation(fig, animate, init_func=init,\n",
    "                        frames=range(0,time.size), \n",
    "                        interval=10, blit=True)\n",
    "#plt.show(ani)"
   ]
  },
  {
   "cell_type": "code",
   "execution_count": 172,
   "metadata": {
    "collapsed": false
   },
   "outputs": [
    {
     "name": "stdout",
     "output_type": "stream",
     "text": [
      "[[array([[ 0. , -0.1]]), [], []]]\n",
      "[[array([[ 0. , -0.1]]), array([[ 0. , -0.1]]), []]]\n",
      "[[array([[ 0. , -0.1]]), array([[ 0. , -0.1]]), array([[ 0. , -0.1]])]]\n"
     ]
    }
   ],
   "source": [
    "# Plotting streaklines\n",
    "\n",
    "\n",
    "import matplotlib.cm as cm # colormap\n",
    "from matplotlib import animation # animations\n",
    "import matplotlib.pyplot as plt # plotting\n",
    "import numpy as np\n",
    "from scipy.integrate import odeint # ODE solver\n",
    "import math\n",
    "%matplotlib qt # QT handles GUI, I think\n",
    "pi=math.pi\n",
    "\n",
    "# Perturbation amplitude.\n",
    "a=0.02\n",
    "\n",
    "# The colormap\n",
    "cmap = cm.jet\n",
    "\n",
    "#y(0)=x and y(1)=y, dy0=u and dy1=v\n",
    "def pathline(y,t):\n",
    "    dy0=1 + np.tanh(2*pi*y[1]) + 2*a*(1/np.cosh(2*pi*y[1])) * np.tanh(2*pi*y[1]) * np.sin(2*pi*(y[0]-t))\n",
    "    dy1=2*a*(1/np.cosh(2*pi*y[1])) * np.cos(2*pi*(y[0]-t))\n",
    "    return[dy0,dy1]\n",
    "\n",
    "M=3;# No .of Particles\n",
    "N=1;# 5 y locations\n",
    "ypoints=[[0,-0.1],[0,-0.05],[0,0],[0,0.05],[0,0.1]];\n",
    "ystore=[[[]]*M]*N;\n",
    "time=np.linspace(0,10,1);\n",
    "for i in range(0, N):\n",
    "    yinit=ypoints[i];\n",
    "    for k in range(0, M):\n",
    "        time=time+k*0.05;     \n",
    "        ystore[i][k]=odeint(pathline,yinit,time);\n",
    "        print(ystore)\n",
    "\n"
   ]
  },
  {
   "cell_type": "code",
   "execution_count": 155,
   "metadata": {
    "collapsed": false
   },
   "outputs": [
    {
     "name": "stdout",
     "output_type": "stream",
     "text": [
      "[[[1, 1], [2, 2]], [[3, 3], [4, 4]], [[5, 5], [6, 6]]]\n"
     ]
    },
    {
     "data": {
      "text/plain": [
       "[[5, 5], [6, 6]]"
      ]
     },
     "execution_count": 155,
     "metadata": {},
     "output_type": "execute_result"
    }
   ],
   "source": [
    "ystore1=[[[1, 1], [2, 2]], [[3, 3], [4, 4]], [[5, 5], [6, 6]]]\n",
    "print(ystore1)\n",
    "ystore1[2]"
   ]
  },
  {
   "cell_type": "code",
   "execution_count": 19,
   "metadata": {
    "collapsed": false
   },
   "outputs": [
    {
     "data": {
      "text/plain": [
       "<matplotlib.animation.FuncAnimation at 0x966b978>"
      ]
     },
     "execution_count": 19,
     "metadata": {},
     "output_type": "execute_result"
    }
   ],
   "source": [
    "#Example Animation 1\n",
    "from matplotlib import animation\n",
    "# create a simple animation\n",
    "fig = plt.figure()\n",
    "ax = plt.axes(xlim=(0, 10), ylim=(-2, 2))\n",
    "line, = ax.plot([], [], lw=2)\n",
    "\n",
    "x = np.linspace(0, 10, 1000)\n",
    "\n",
    "def init():\n",
    "    line.set_data([], [])\n",
    "    return line,\n",
    "\n",
    "def animate(i):\n",
    "    line.set_data(x, np.cos(i * 0.02 * np.pi) * np.sin(x - i * 0.02 * np.pi))\n",
    "    return line,\n",
    "\n",
    "animation.FuncAnimation(fig, animate, init_func=init,\n",
    "                        frames=100, interval=20, blit=True)"
   ]
  },
  {
   "cell_type": "code",
   "execution_count": 1,
   "metadata": {
    "collapsed": false
   },
   "outputs": [],
   "source": [
    "#Example Animation 2\n",
    "\n",
    "import numpy as np\n",
    "from matplotlib import pyplot as plt\n",
    "from matplotlib import animation\n",
    "\n",
    "X, Y = np.mgrid[:2*np.pi:0.2,:2*np.pi:0.2]\n",
    "U = np.cos(X)\n",
    "V = np.sin(Y)\n",
    "\n",
    "fig, ax = plt.subplots(1,1)\n",
    "Q = ax.quiver(X, Y, U, V, pivot='mid', color='r', units='inches')\n",
    "\n",
    "ax.set_xlim(-1, 7)\n",
    "ax.set_ylim(-1, 7)\n",
    "\n",
    "def update_quiver(num, Q, X, Y):\n",
    "    \"\"\"updates the horizontal and vertical vector components by a\n",
    "    fixed increment on each frame\n",
    "    \"\"\"\n",
    "\n",
    "    U = np.cos(X + num*0.1)\n",
    "    V = np.sin(Y + num*0.1)\n",
    "\n",
    "    Q.set_UVC(U,V)\n",
    "\n",
    "    return Q,\n",
    "\n",
    "# you need to set blit=False, or the first set of arrows never gets\n",
    "# cleared on subsequent frames\n",
    "anim = animation.FuncAnimation(fig, update_quiver, fargs=(Q, X, Y),\n",
    "                               interval=10, blit=False)\n",
    "\n",
    "plt.show()"
   ]
  }
 ],
 "metadata": {
  "kernelspec": {
   "display_name": "Python 3",
   "language": "python",
   "name": "python3"
  },
  "language_info": {
   "codemirror_mode": {
    "name": "ipython",
    "version": 3
   },
   "file_extension": ".py",
   "mimetype": "text/x-python",
   "name": "python",
   "nbconvert_exporter": "python",
   "pygments_lexer": "ipython3",
   "version": "3.5.1"
  }
 },
 "nbformat": 4,
 "nbformat_minor": 0
}
