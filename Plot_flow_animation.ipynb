{
 "cells": [
  {
   "cell_type": "code",
   "execution_count": 5,
   "metadata": {},
   "outputs": [
    {
     "name": "stdout",
     "output_type": "stream",
     "text": [
      "\n\n"
     ]
    },
    {
     "name": "stdout",
     "output_type": "stream",
     "text": [
      "\n\n"
     ]
    },
    {
     "name": "stdout",
     "output_type": "stream",
     "text": [
      "\n\n"
     ]
    },
    {
     "name": "stdout",
     "output_type": "stream",
     "text": [
      "\n\n"
     ]
    },
    {
     "name": "stdout",
     "output_type": "stream",
     "text": [
      "\n\n"
     ]
    },
    {
     "name": "stdout",
     "output_type": "stream",
     "text": [
      "\n\n"
     ]
    },
    {
     "name": "stdout",
     "output_type": "stream",
     "text": [
      "\n\n"
     ]
    },
    {
     "name": "stdout",
     "output_type": "stream",
     "text": [
      "\n\n"
     ]
    },
    {
     "name": "stdout",
     "output_type": "stream",
     "text": [
      "\n\n"
     ]
    },
    {
     "name": "stdout",
     "output_type": "stream",
     "text": [
      "\n\n"
     ]
    },
    {
     "name": "stdout",
     "output_type": "stream",
     "text": [
      "\n\n"
     ]
    },
    {
     "name": "stdout",
     "output_type": "stream",
     "text": [
      "\n\n"
     ]
    },
    {
     "name": "stdout",
     "output_type": "stream",
     "text": [
      "\n\n"
     ]
    },
    {
     "name": "stdout",
     "output_type": "stream",
     "text": [
      "\n\n"
     ]
    },
    {
     "name": "stdout",
     "output_type": "stream",
     "text": [
      "\n\n"
     ]
    },
    {
     "name": "stdout",
     "output_type": "stream",
     "text": [
      "\n\n"
     ]
    },
    {
     "name": "stdout",
     "output_type": "stream",
     "text": [
      "\n\n"
     ]
    },
    {
     "name": "stdout",
     "output_type": "stream",
     "text": [
      "\n\n"
     ]
    },
    {
     "name": "stdout",
     "output_type": "stream",
     "text": [
      "\n\n"
     ]
    },
    {
     "name": "stdout",
     "output_type": "stream",
     "text": [
      "\n\n"
     ]
    },
    {
     "name": "stdout",
     "output_type": "stream",
     "text": [
      "\n\n"
     ]
    },
    {
     "name": "stdout",
     "output_type": "stream",
     "text": [
      "\n\n"
     ]
    },
    {
     "name": "stdout",
     "output_type": "stream",
     "text": [
      "\n\n"
     ]
    },
    {
     "name": "stdout",
     "output_type": "stream",
     "text": [
      "\n\n"
     ]
    },
    {
     "name": "stdout",
     "output_type": "stream",
     "text": [
      "\n\n"
     ]
    },
    {
     "name": "stdout",
     "output_type": "stream",
     "text": [
      "\n\n"
     ]
    },
    {
     "name": "stdout",
     "output_type": "stream",
     "text": [
      "\n\n"
     ]
    },
    {
     "name": "stdout",
     "output_type": "stream",
     "text": [
      "\n\n"
     ]
    },
    {
     "name": "stdout",
     "output_type": "stream",
     "text": [
      "\n\n"
     ]
    },
    {
     "name": "stdout",
     "output_type": "stream",
     "text": [
      "\n\n"
     ]
    },
    {
     "name": "stdout",
     "output_type": "stream",
     "text": [
      "\n\n"
     ]
    },
    {
     "name": "stdout",
     "output_type": "stream",
     "text": [
      "\n\n"
     ]
    },
    {
     "name": "stdout",
     "output_type": "stream",
     "text": [
      "\n\n"
     ]
    },
    {
     "name": "stdout",
     "output_type": "stream",
     "text": [
      "\n\n"
     ]
    },
    {
     "name": "stdout",
     "output_type": "stream",
     "text": [
      "\n\n"
     ]
    },
    {
     "name": "stdout",
     "output_type": "stream",
     "text": [
      "\n\n"
     ]
    },
    {
     "name": "stdout",
     "output_type": "stream",
     "text": [
      "\n\n"
     ]
    },
    {
     "name": "stdout",
     "output_type": "stream",
     "text": [
      "\n\n"
     ]
    },
    {
     "name": "stdout",
     "output_type": "stream",
     "text": [
      "\n\n"
     ]
    },
    {
     "name": "stdout",
     "output_type": "stream",
     "text": [
      "\n\n"
     ]
    },
    {
     "name": "stdout",
     "output_type": "stream",
     "text": [
      "\n\n"
     ]
    },
    {
     "name": "stdout",
     "output_type": "stream",
     "text": [
      "\n\n"
     ]
    },
    {
     "name": "stdout",
     "output_type": "stream",
     "text": [
      "\n\n"
     ]
    },
    {
     "name": "stdout",
     "output_type": "stream",
     "text": [
      "\n\n"
     ]
    },
    {
     "name": "stdout",
     "output_type": "stream",
     "text": [
      "\n\n"
     ]
    },
    {
     "name": "stdout",
     "output_type": "stream",
     "text": [
      "\n\n"
     ]
    },
    {
     "name": "stdout",
     "output_type": "stream",
     "text": [
      "\n\n"
     ]
    },
    {
     "name": "stdout",
     "output_type": "stream",
     "text": [
      "\n\n"
     ]
    },
    {
     "name": "stdout",
     "output_type": "stream",
     "text": [
      "\n\n"
     ]
    },
    {
     "name": "stdout",
     "output_type": "stream",
     "text": [
      "\n\n"
     ]
    },
    {
     "name": "stdout",
     "output_type": "stream",
     "text": [
      "\n"
     ]
    },
    {
     "name": "stderr",
     "output_type": "stream",
     "text": [
      "C:\\Users\\bhattac3\\Anaconda3\\lib\\site-packages\\matplotlib\\backend_bases.py:2437: MatplotlibDeprecationWarning: Using default event loop until function specific to this GUI is implemented\n  warnings.warn(str, mplDeprecation)\n"
     ]
    }
   ],
   "source": [
    "import os\n",
    "import flows # Subfolder which contains the other functions\n",
    "import numpy as np\n",
    "import pdb\n",
    "\n",
    "########################################################################\n",
    "####################  Modify Here  #####################################\n",
    "########################################################################\n",
    "\n",
    "# Flow type (For now it is only one flow)\n",
    "flow_type = \"hama\"\n",
    "\n",
    "# Define Hama Flow Constants\n",
    "a = 0.05 # Scaling Parameter\n",
    "alpha = 1 # Frequency Parameter\n",
    "c = 1  # Fluctuating Velocity Wave Speed\n",
    "extra_args = [a, alpha, c]\n",
    "\n",
    "# Plot type (Select between \"path\",\"streak\",\"time\")\n",
    "plot_type = \"path\"\n",
    "\n",
    "# Define number of y locations on the wall (x=0) from which particles will advect\n",
    "num_particles_y = 7\n",
    "num_particles_x = 1\n",
    "\n",
    "# New particle distance (How closely particles are generated in time)\n",
    "NewParticleDistance = 0.1\n",
    "\n",
    "# Simulation time duration\n",
    "tstart=0;\n",
    "tend=10;\n",
    "tstep=0.1;\n",
    "sim_time = [tstart, tend, tstep]\n",
    "\n",
    "##########################################################################\n",
    "\n",
    "# Coordinates\n",
    "xv = np.linspace(0, 0, num_particles_x)\n",
    "yv = np.linspace(-1, 1, num_particles_y)\n",
    "\n",
    "xm, ym = np.meshgrid(xv, yv)\n",
    "\n",
    "x = xm.flatten()\n",
    "y = ym.flatten()\n",
    "\n",
    "# Z values\n",
    "z = np.zeros(len(x))\n",
    "\n",
    "# Make them a vector\n",
    "y0 = [x, y, z]\n",
    "\n",
    "# Default Domain Size \n",
    "xd = (-1.1, 24.0)\n",
    "yd = (-5, 5)\n",
    "zd = (-1, 1)\n",
    "\n",
    "# Call class simulation\n",
    "sim = flows.Simulation(x_domain=xd,\n",
    "                       y_domain=yd,\n",
    "                       z_domain=zd,\n",
    "                       y0=y0,\n",
    "                       flow_type=flow_type,\n",
    "                       plot_type=plot_type,\n",
    "                       time=sim_time,\n",
    "                       NewParticleDistance=NewParticleDistance,\n",
    "                       extra_args=extra_args)\n",
    "\n",
    "# Run the simulation                                \n",
    "sim.Run()\n",
    "# print(sim)"
   ]
  },
  {
   "cell_type": "code",
   "execution_count": 4,
   "metadata": {},
   "outputs": [],
   "source": [
    "# This Cell plots the velocity fields depending on the constants defined in the previous cell\n",
    "\n",
    "from matplotlib import pyplot as plt\n",
    "import numpy as np\n",
    "import matplotlib.animation as animation\n",
    "import math\n",
    "%matplotlib qt \n",
    "#%matplotlib inline \n",
    "    \n",
    "# a=0.05\n",
    "pi=math.pi\n",
    "k=2*pi;\n",
    "\n",
    "#Hama Flow Constants\n",
    "# a = 0.05\n",
    "# alpha = 1\n",
    "# c = 1\n",
    "\n",
    "def ufield(x,y,t):\n",
    "    # Mean horizontal velocity\n",
    "    u_o = 1 + np.tanh(k*y);\n",
    "    # Fluctuating velocity (horizontal)\n",
    "    u_prime = 2 * a * 1 / np.cosh(k*y) * np.tanh(k*y) * np.sin(alpha *k* (x - c * t));\n",
    "    # Add steady and unsteady velocities\n",
    "    u_vel = u_o + u_prime;\n",
    "    return u_vel\n",
    "    # return 1 + np.tanh(2*pi*y) + 2*a*(1/np.cosh(2*pi*y)) * np.tanh(2*pi*y) * np.sin(2*pi*(x-t))\n",
    "\n",
    "def vfield(x,y,t):\n",
    "    # Mean vertical velocity\n",
    "    v_o = 0;\n",
    "    # Fluctuating velocoity (vertical)\n",
    "    v_prime = 2 * a *( 1 / np.cosh(k*y)) * np.cos(alpha * k*(x - c * t));\n",
    "    # Add steady and unsteady velocities\n",
    "    v_vel = v_o + v_prime;\n",
    "    return v_vel\n",
    "    # return 2*a*(1/np.cosh(2*pi*y)) * np.cos(2*pi*(x-t))\n",
    "\n",
    "#Define X and Y grid to plot\n",
    "x = np.linspace(0,8, num=30)\n",
    "y = np.linspace(-0.1,0.1, num=20)\n",
    "X,Y = np.meshgrid(x,y)\n",
    "#Time Vector\n",
    "t = np.linspace(0,100, num=5000)\n",
    "\n",
    "#Initialize Quiver Plot\n",
    "def init_quiver():\n",
    "    global Q\n",
    "    u = ufield(X,Y,t[0])\n",
    "    v = vfield(X,Y,t[0])\n",
    "    Q = ax.quiver(X, Y, u, v)\n",
    "    ax.set_title('$t$ = '+ str(t[0]))\n",
    "    ax.set_xlabel('$x$')\n",
    "    ax.set_ylabel('$y$')\n",
    "    ax.set_xlim(-1,9)\n",
    "    ax.set_ylim(-0.15,0.15)\n",
    "    return  Q,\n",
    "#Update quiver plot for each time\n",
    "def update_quiver(j, ax, fig):\n",
    "    u = ufield(X,Y,t[j])\n",
    "    v = vfield(X,Y,t[j])\n",
    "    Q.set_UVC(u, v)\n",
    "    ax.set_title('$t$ = '+ str(t[j]))\n",
    "    return Q,\n",
    "\n",
    "\n",
    "fig =plt.figure()\n",
    "ax = fig.gca()\n",
    "ax.set_title('Velocity_field at $t$ = '+ str(t[0]))\n",
    "ax.set_xlabel('$x$')\n",
    "ax.set_ylabel('$y$')\n",
    "\n",
    "#Do Animation of Velocity Field\n",
    "ani = animation.FuncAnimation(fig, update_quiver, \n",
    "                              frames = range(0,t.size),\n",
    "                              init_func=init_quiver,\n",
    "                              interval=5,fargs=(ax, fig),blit=False)\n",
    "plt.show(ani)"
   ]
  },
  {
   "cell_type": "code",
   "execution_count": 5,
   "metadata": {},
   "outputs": [],
   "source": [
    ""
   ]
  },
  {
   "cell_type": "code",
   "execution_count": null,
   "metadata": {},
   "outputs": [],
   "source": [
    ""
   ]
  }
 ],
 "metadata": {
  "kernelspec": {
   "display_name": "Python 3",
   "language": "python",
   "name": "python3"
  },
  "language_info": {
   "codemirror_mode": {
    "name": "ipython",
    "version": 3.0
   },
   "file_extension": ".py",
   "mimetype": "text/x-python",
   "name": "python",
   "nbconvert_exporter": "python",
   "pygments_lexer": "ipython3",
   "version": "3.5.1"
  }
 },
 "nbformat": 4,
 "nbformat_minor": 0
}